{
 "cells": [
  {
   "cell_type": "code",
   "execution_count": 1,
   "metadata": {},
   "outputs": [],
   "source": [
    "from tkinter import * \n",
    "window=Tk() \n",
    "##window.geometry(\"1280*720\")"
   ]
  },
  {
   "cell_type": "code",
   "execution_count": 2,
   "metadata": {},
   "outputs": [],
   "source": [
    "def sum():\n",
    "    a=int(entry1.get())\n",
    "    b=int(entry2.get())\n",
    "    c=a+b\n",
    "    entry3.insert(0,c) ##insert(index,value)\n",
    "\n",
    "def clearing():\n",
    "    entry1.delete(0,END)##delete(0,END)\n",
    "    entry2.delete(0,END)\n",
    "    entry3.delete(0,END)"
   ]
  },
  {
   "cell_type": "code",
   "execution_count": 3,
   "metadata": {},
   "outputs": [],
   "source": [
    "label1=Label(window,text=\"Enter number 1: \",padx=20,pady=10)\n",
    "label2=Label(window,text=\"Enter number 2: \",padx=20,pady=10)\n",
    "entry1=Entry(window,width=30,borderwidth=5)\n",
    "entry2=Entry(window,width=30,borderwidth=5)\n",
    "entry3=Entry(window,width=30,borderwidth=5)\n",
    "add=Button(window,text=\"Add\",padx=20,pady=10,command=sum)\n",
    "clear=Button(window,text=\"Clear\",padx=20,pady=10,command=clearing)"
   ]
  },
  {
   "cell_type": "code",
   "execution_count": 4,
   "metadata": {},
   "outputs": [],
   "source": [
    "label1.grid(row=0,column=0)\n",
    "label2.grid(row=1,column=0)\n",
    "entry1.grid(row=0,column=1)\n",
    "entry2.grid(row=1,column=1)\n",
    "add.grid(row=2,column=0)\n",
    "entry3.grid(row=3,column=0)\n",
    "clear.grid(row=2,column=1)"
   ]
  },
  {
   "cell_type": "code",
   "execution_count": 5,
   "metadata": {},
   "outputs": [
    {
     "name": "stderr",
     "output_type": "stream",
     "text": [
      "Exception in Tkinter callback\n",
      "Traceback (most recent call last):\n",
      "  File \"C:\\Users\\masuj\\anaconda3\\lib\\tkinter\\__init__.py\", line 1705, in __call__\n",
      "    return self.func(*args)\n",
      "  File \"<ipython-input-2-cf8e70bd3bd8>\", line 2, in sum\n",
      "    a=int(entry1.get())\n",
      "ValueError: invalid literal for int() with base 10: ''\n"
     ]
    }
   ],
   "source": [
    "window.mainloop()"
   ]
  }
 ],
 "metadata": {
  "kernelspec": {
   "display_name": "Python 3",
   "language": "python",
   "name": "python3"
  },
  "language_info": {
   "codemirror_mode": {
    "name": "ipython",
    "version": 3
   },
   "file_extension": ".py",
   "mimetype": "text/x-python",
   "name": "python",
   "nbconvert_exporter": "python",
   "pygments_lexer": "ipython3",
   "version": "3.7.6"
  }
 },
 "nbformat": 4,
 "nbformat_minor": 4
}
