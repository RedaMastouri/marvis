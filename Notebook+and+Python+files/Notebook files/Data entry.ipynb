{
 "cells": [
  {
   "cell_type": "code",
   "execution_count": 1,
   "metadata": {},
   "outputs": [],
   "source": [
    "from csv import *\n",
    "from tkinter import *\n",
    "from tkinter import messagebox"
   ]
  },
  {
   "cell_type": "code",
   "execution_count": 2,
   "metadata": {},
   "outputs": [],
   "source": [
    "window=Tk()\n",
    "window.title(\"Data entry\")\n",
    "main_lst=[]"
   ]
  },
  {
   "cell_type": "code",
   "execution_count": 3,
   "metadata": {},
   "outputs": [],
   "source": [
    "'''[[\"Sujith\",19,37798127398] , [\"MASK\",25,247097403],[\"john\",27,372893629838]]'''\n",
    "def Add():\n",
    "    lst=[name.get(),age.get(),contact.get()]\n",
    "    main_lst.append(lst)\n",
    "    messagebox.showinfo(\"Information\",\"The data has been added succesfully\")"
   ]
  },
  {
   "cell_type": "code",
   "execution_count": 4,
   "metadata": {},
   "outputs": [],
   "source": [
    "def Save():\n",
    "    with open(\"data_entry.csv\",\"w\") as file:\n",
    "        Writer=writer(file)\n",
    "        Writer.writerow([\"Name\",\"Age\",\"Contact\"])\n",
    "        Writer.writerows(main_lst)\n",
    "        messagebox.showinfo(\"Information\",\"Saved succesfully\")"
   ]
  },
  {
   "cell_type": "code",
   "execution_count": 5,
   "metadata": {},
   "outputs": [],
   "source": [
    "def Clear():\n",
    "    name.delete(0,END)\n",
    "    age.delete(0,END)\n",
    "    contact.delete(0,END)"
   ]
  },
  {
   "cell_type": "markdown",
   "metadata": {},
   "source": [
    "## 3 labels, 4 buttons,3 entry fields "
   ]
  },
  {
   "cell_type": "code",
   "execution_count": 6,
   "metadata": {},
   "outputs": [],
   "source": [
    "label1=Label(window,text=\"Name: \",padx=20,pady=10)\n",
    "label2=Label(window,text=\"Age: \",padx=20,pady=10)\n",
    "label3=Label(window,text=\"Contact: \",padx=20,pady=10)\n",
    "name=Entry(window,width=30,borderwidth=5)\n",
    "age=Entry(window,width=30,borderwidth=5)\n",
    "contact=Entry(window,width=30,borderwidth=5)\n",
    "save=Button(window,text=\"Save\",padx=20,pady=10,command=Save)\n",
    "add=Button(window,text=\"Add\",padx=20,pady=10,command=Add)\n",
    "clear=Button(window,text=\"Clear\",padx=18,pady=10,command=Clear)\n",
    "Exit=Button(window,text=\"Exit\",padx=20,pady=10,command=window.quit)"
   ]
  },
  {
   "cell_type": "code",
   "execution_count": 7,
   "metadata": {},
   "outputs": [],
   "source": [
    "label1.grid(row=0,column=0)\n",
    "label2.grid(row=1,column=0)\n",
    "label3.grid(row=2,column=0)\n",
    "name.grid(row=0,column=1)\n",
    "age.grid(row=1,column=1)\n",
    "contact.grid(row=2,column=1)\n",
    "save.grid(row=4,column=0,columnspan=2)\n",
    "add.grid(row=3,column=0,columnspan=2)\n",
    "clear.grid(row=5,column=0,columnspan=2)\n",
    "Exit.grid(row=6,column=0,columnspan=2)"
   ]
  },
  {
   "cell_type": "code",
   "execution_count": 8,
   "metadata": {},
   "outputs": [
    {
     "name": "stderr",
     "output_type": "stream",
     "text": [
      "Exception in Tkinter callback\n",
      "Traceback (most recent call last):\n",
      "  File \"C:\\Users\\masuj\\anaconda3\\lib\\tkinter\\__init__.py\", line 1705, in __call__\n",
      "    return self.func(*args)\n",
      "  File \"<ipython-input-4-8c0bcb673372>\", line 2, in Save\n",
      "    with open(\"data_entry.csv\",\"w\") as file:\n",
      "PermissionError: [Errno 13] Permission denied: 'data_entry.csv'\n"
     ]
    }
   ],
   "source": [
    "window.mainloop()"
   ]
  },
  {
   "cell_type": "code",
   "execution_count": 9,
   "metadata": {},
   "outputs": [
    {
     "ename": "NameError",
     "evalue": "name 'lst' is not defined",
     "output_type": "error",
     "traceback": [
      "\u001b[1;31m---------------------------------------------------------------------------\u001b[0m",
      "\u001b[1;31mNameError\u001b[0m                                 Traceback (most recent call last)",
      "\u001b[1;32m<ipython-input-9-d630a01b856b>\u001b[0m in \u001b[0;36m<module>\u001b[1;34m\u001b[0m\n\u001b[1;32m----> 1\u001b[1;33m \u001b[0mprint\u001b[0m\u001b[1;33m(\u001b[0m\u001b[0mlst\u001b[0m\u001b[1;33m)\u001b[0m\u001b[1;33m\u001b[0m\u001b[1;33m\u001b[0m\u001b[0m\n\u001b[0m",
      "\u001b[1;31mNameError\u001b[0m: name 'lst' is not defined"
     ]
    }
   ],
   "source": [
    "print(lst)"
   ]
  },
  {
   "cell_type": "code",
   "execution_count": null,
   "metadata": {},
   "outputs": [],
   "source": [
    "print(main_lst)"
   ]
  },
  {
   "cell_type": "code",
   "execution_count": 11,
   "metadata": {},
   "outputs": [
    {
     "data": {
      "text/plain": [
       "'ok'"
      ]
     },
     "execution_count": 11,
     "metadata": {},
     "output_type": "execute_result"
    }
   ],
   "source": [
    "##messagebox.showerror(\"Oops!\",\"An error has occured\")"
   ]
  },
  {
   "cell_type": "code",
   "execution_count": null,
   "metadata": {},
   "outputs": [],
   "source": []
  }
 ],
 "metadata": {
  "kernelspec": {
   "display_name": "Python 3",
   "language": "python",
   "name": "python3"
  },
  "language_info": {
   "codemirror_mode": {
    "name": "ipython",
    "version": 3
   },
   "file_extension": ".py",
   "mimetype": "text/x-python",
   "name": "python",
   "nbconvert_exporter": "python",
   "pygments_lexer": "ipython3",
   "version": "3.7.6"
  }
 },
 "nbformat": 4,
 "nbformat_minor": 4
}
