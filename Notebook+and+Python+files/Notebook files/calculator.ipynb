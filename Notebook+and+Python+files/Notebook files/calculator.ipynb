{
 "cells": [
  {
   "cell_type": "code",
   "execution_count": 25,
   "metadata": {},
   "outputs": [],
   "source": [
    "from tkinter import *\n",
    "import csv\n",
    "i=0\n",
    "file=open(\"ssk.csv\",\"w\")"
   ]
  },
  {
   "cell_type": "code",
   "execution_count": 14,
   "metadata": {
    "collapsed": true
   },
   "outputs": [],
   "source": [
    "root=Tk()\n",
    "large_font=(\"Arial\",\"13\")"
   ]
  },
  {
   "cell_type": "code",
   "execution_count": 15,
   "metadata": {},
   "outputs": [],
   "source": [
    "label=Label(root,text=\"Calculator!\")\n",
    "text=Entry(root,width=30,borderwidth=5,font=large_font)"
   ]
  },
  {
   "cell_type": "code",
   "execution_count": 16,
   "metadata": {},
   "outputs": [],
   "source": [
    "label.grid(row=0,columnspan=4)\n",
    "text.grid(row=1,columnspan=4,ipadx=15,ipady=15)"
   ]
  },
  {
   "cell_type": "code",
   "execution_count": 17,
   "metadata": {},
   "outputs": [],
   "source": [
    "def number(x):\n",
    "    global i\n",
    "    text.insert(i,x)\n",
    "    i+=1\n",
    "def answer():\n",
    "    z=text.get()\n",
    "    y=eval(z)\n",
    "    text.delete(0,END)\n",
    "    text.insert(0,y)\n",
    "def Clear():\n",
    "    text.delete(0,END)"
   ]
  },
  {
   "cell_type": "code",
   "execution_count": 18,
   "metadata": {},
   "outputs": [],
   "source": [
    "button1=Button(root,text=\"1\",command=lambda: number(\"1\"),padx=40,pady=20)\n",
    "button2=Button(root,text=\"2\",command=lambda: number(\"2\"),padx=40,pady=20)\n",
    "button3=Button(root,text=\"3\",command=lambda: number(\"3\"),padx=40,pady=20)\n",
    "button4=Button(root,text=\"4\",command=lambda: number(\"4\"),padx=40,pady=20)\n",
    "button5=Button(root,text=\"5\",command=lambda: number(\"5\"),padx=40,pady=20)\n",
    "button6=Button(root,text=\"6\",command=lambda: number(\"6\"),padx=40,pady=20)\n",
    "button7=Button(root,text=\"7\",command=lambda: number(\"7\"),padx=40,pady=20)\n",
    "button8=Button(root,text=\"8\",command=lambda: number(\"8\"),padx=40,pady=20)\n",
    "button9=Button(root,text=\"9\",command=lambda: number(\"9\"),padx=40,pady=20)\n",
    "button0=Button(root,text=\"0\",command=lambda: number(\"0\"),padx=40,pady=20)\n",
    "add=Button(root,text=\"+\",command=lambda: number(\"+\"),padx=40,pady=20)\n",
    "sub=Button(root,text=\"-\",command=lambda: number(\"-\"),padx=40,pady=20)\n",
    "mult=Button(root,text=\"x\",command=lambda: number(\"*\"),padx=40,pady=20)\n",
    "div=Button(root,text=\"/\",command=lambda: number(\"/\"),padx=40,pady=20)\n",
    "value=Button(root,text=\"=\",command=answer,padx=40,pady=20)\n",
    "clear=Button(root,text=\"Clear\",command=Clear,padx=30,pady=20)"
   ]
  },
  {
   "cell_type": "code",
   "execution_count": 19,
   "metadata": {},
   "outputs": [],
   "source": [
    "\n",
    "button7.grid(row=2,column=0)\n",
    "button8.grid(row=2,column=1)\n",
    "button9.grid(row=2,column=2)\n",
    "add.grid(row=2,column=3)"
   ]
  },
  {
   "cell_type": "code",
   "execution_count": 20,
   "metadata": {
    "collapsed": true
   },
   "outputs": [],
   "source": [
    "button4.grid(row=3,column=0)\n",
    "button5.grid(row=3,column=1)\n",
    "button6.grid(row=3,column=2)\n",
    "sub.grid(row=3,column=3)"
   ]
  },
  {
   "cell_type": "code",
   "execution_count": 21,
   "metadata": {
    "collapsed": true
   },
   "outputs": [],
   "source": [
    "button1.grid(row=4,column=0)\n",
    "button2.grid(row=4,column=1)\n",
    "button3.grid(row=4,column=2)\n",
    "mult.grid(row=4,column=3)"
   ]
  },
  {
   "cell_type": "code",
   "execution_count": 22,
   "metadata": {},
   "outputs": [],
   "source": [
    "div.grid(row=5,column=0)\n",
    "button0.grid(row=5,column=1)\n",
    "value.grid(row=5,column=2)"
   ]
  },
  {
   "cell_type": "code",
   "execution_count": 23,
   "metadata": {
    "collapsed": true
   },
   "outputs": [],
   "source": [
    "clear.grid(row=5,column=3)"
   ]
  },
  {
   "cell_type": "code",
   "execution_count": 24,
   "metadata": {},
   "outputs": [],
   "source": [
    "root.mainloop()"
   ]
  }
 ],
 "metadata": {
  "kernelspec": {
   "display_name": "Python 3",
   "language": "python",
   "name": "python3"
  },
  "language_info": {
   "codemirror_mode": {
    "name": "ipython",
    "version": 3
   },
   "file_extension": ".py",
   "mimetype": "text/x-python",
   "name": "python",
   "nbconvert_exporter": "python",
   "pygments_lexer": "ipython3",
   "version": "3.7.6"
  }
 },
 "nbformat": 4,
 "nbformat_minor": 1
}
